{
 "cells": [
  {
   "cell_type": "markdown",
   "metadata": {},
   "source": [
    "# Install the following required libraries\n"
   ]
  },
  {
   "cell_type": "code",
   "execution_count": null,
   "metadata": {},
   "outputs": [],
   "source": [
    "! pip install requests\n",
    "! pip install pandas\n",
    "! pip install matplotlib\n",
    "! pip install geopandas\n",
    "! pip install folium"
   ]
  },
  {
   "cell_type": "markdown",
   "metadata": {},
   "source": [
    "# Import modules and libraries\n"
   ]
  },
  {
   "cell_type": "code",
   "execution_count": 1,
   "metadata": {},
   "outputs": [],
   "source": [
    "import requests \n",
    "import pandas as pd\n",
    "import matplotlib.pyplot as plt\n",
    "import geopandas as gpd\n",
    "import folium"
   ]
  },
  {
   "cell_type": "markdown",
   "metadata": {},
   "source": [
    "See below the **base_url**.  Note that this isn't an actual API link. It contains symbolic links.\n",
    "\n",
    "To obtain the desired real url, a link based on the input keyword as search_term has to be selected. \n",
    "\n",
    "Especially the last part of this link in needed."
   ]
  },
  {
   "cell_type": "markdown",
   "metadata": {},
   "source": [
    "![plot](../images/symbolic_links_openbydata.png)"
   ]
  },
  {
   "cell_type": "code",
   "execution_count": 2,
   "metadata": {},
   "outputs": [],
   "source": [
    "# the following link contains symbolic links which include keywords\n",
    "base_url = 'https://open.bydata.de/api/hub/repo/datasets/' \n",
    "\n",
    "# Make an HTTP GET request to the provided base_url.\n",
    "response = requests.get(base_url)\n",
    "# will raise en exception if the request failed.\n",
    "response.raise_for_status()\n",
    "# parse the HTTP response content as JSON and return it.\n",
    "data = response.json()"
   ]
  },
  {
   "attachments": {},
   "cell_type": "markdown",
   "metadata": {},
   "source": [
    "Add the last part of the sustained link to the base_url"
   ]
  },
  {
   "cell_type": "markdown",
   "metadata": {},
   "source": [
    "By appending this last part to the base_url, a valid URL from which one can download the relevant dataset is generated."
   ]
  },
  {
   "cell_type": "code",
   "execution_count": 3,
   "metadata": {},
   "outputs": [
    {
     "name": "stdout",
     "output_type": "stream",
     "text": [
      "We created this link using the base_url and the last part of the link. \n",
      "real_url : https://open.bydata.de/api/hub/repo/datasets/baumkataster_stadt_wuerzburg-wuerzburg\n"
     ]
    }
   ],
   "source": [
    "# The example keyword to search for is\n",
    "search_term = 'baumkataster' # in english 'tree register'\n",
    "\n",
    "# Create a list of links that contain the specified search_term from the data.\n",
    "symbolic_links = [link for link in data if search_term in link]\n",
    "# If there are any symbolic_links found:\n",
    "if symbolic_links:\n",
    "    # Take the first link from symbolic_links.\n",
    "    first_link = symbolic_links[0]\n",
    "    # Extract the rear part of the link after the last '/'.\n",
    "    last_part = first_link.split('/')[-1]\n",
    "    # Assemble the full URL by appending the last part to the base_url.\n",
    "    real_url = base_url + last_part\n",
    "print(f'We created this link using the base_url and the last part of the link. \\nreal_url : {real_url}')\n"
   ]
  },
  {
   "attachments": {},
   "cell_type": "markdown",
   "metadata": {},
   "source": [
    "Get Data from a request:"
   ]
  },
  {
   "cell_type": "code",
   "execution_count": 4,
   "metadata": {},
   "outputs": [
    {
     "name": "stdout",
     "output_type": "stream",
     "text": [
      "The dataset : https://opendata.wuerzburg.de/api/v2/catalog/datasets/baumkataster_stadt_wuerzburg/exports/geojson\n"
     ]
    }
   ],
   "source": [
    "response_new = requests.get(real_url)\n",
    "# will raise en exception if the request failed.\n",
    "response_new.raise_for_status()\n",
    "# Parse the HTTP response content as JSON \n",
    "data_new = response_new.json()\n",
    "# Extract desired values\n",
    "geojson_urls = []\n",
    "if '@graph' in data_new:               # Check if the key '@graph' exists in the dictionary.\n",
    "    for entry in data_new['@graph']:   # Iterate over each dictionary in the list under the '@graph' key.\n",
    "        if 'dcat:accessURL' in entry and '@id' in entry['dcat:accessURL']:  # Check if the required keys exist.\n",
    "            url = entry['dcat:accessURL']['@id']                            # Extract the value of the '@id' key.\n",
    "            if 'geojson' in url:                                            # Check if the URL contains the word 'geojson'\n",
    "                geojson_url = url                                           # Assign the URL to the geojson_urls variable.\n",
    "\n",
    "print(f'The dataset : {geojson_url}')"
   ]
  },
  {
   "cell_type": "markdown",
   "metadata": {},
   "source": [
    "Let's plot with the geopandas module."
   ]
  },
  {
   "cell_type": "code",
   "execution_count": null,
   "metadata": {},
   "outputs": [],
   "source": [
    "# Read the geojson data from the provided URL using GeoPandas and store it in 'gdf'.\n",
    "gdf = gpd.read_file(geojson_url)\n",
    "# Define coordinates for the city of Würzburg in Germany.\n",
    "wuerzburg_coords = [49.79245, 9.932966]\n",
    "# Create a folium map centered on Würzburg with a zoom level of 16.\n",
    "m = folium.Map(location=wuerzburg_coords, zoom_start=16)\n",
    "# Iterate over each row in the GeoDataFrame 'gdf'.\n",
    "for _, row in gdf.iterrows():\n",
    "    # Check if the current row has a valid geometry that is not empty.\n",
    "    if row['geometry'] and not row['geometry'].is_empty:\n",
    "        # Extract longitude and latitude from the geometry of the current row.\n",
    "        lon, lat = row['geometry'].coords.xy\n",
    "        # Create a circle marker on the folium map for each valid geometry.\n",
    "        folium.CircleMarker(\n",
    "            location=[lat[0], lon[0]],  # Set the position for the circle marker.\n",
    "            radius=1,                   # Define the radius of the circle marker.\n",
    "            color=\"green\",              # Set the color of the circle marker.\n",
    "            fill=True,                  # Fill the inside of the circle marker.\n",
    "            fill_color=\"green\"          # Set the fill color for the inside of the circle marker.\n",
    "        ).add_to(m)                     # Add the created circle marker to the folium map 'm'.\n",
    "\n",
    "m"
   ]
  },
  {
   "cell_type": "markdown",
   "metadata": {},
   "source": [
    "Outputs:"
   ]
  },
  {
   "cell_type": "markdown",
   "metadata": {},
   "source": [
    "![plot](../images/plotting_of_dataset1.png)"
   ]
  },
  {
   "cell_type": "markdown",
   "metadata": {},
   "source": [
    "![plot](../images/plotting_of_dataset2.png)"
   ]
  },
  {
   "cell_type": "markdown",
   "metadata": {},
   "source": [
    "![plot](../images/plotting_of_dataset3.png)"
   ]
  }
 ],
 "metadata": {
  "kernelspec": {
   "display_name": "base",
   "language": "python",
   "name": "python3"
  },
  "language_info": {
   "codemirror_mode": {
    "name": "ipython",
    "version": 3
   },
   "file_extension": ".py",
   "mimetype": "text/x-python",
   "name": "python",
   "nbconvert_exporter": "python",
   "pygments_lexer": "ipython3",
   "version": "3.10.9"
  },
  "orig_nbformat": 4
 },
 "nbformat": 4,
 "nbformat_minor": 2
}
